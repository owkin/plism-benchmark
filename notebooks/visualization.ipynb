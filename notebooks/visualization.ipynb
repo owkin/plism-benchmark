{
 "cells": [
  {
   "cell_type": "code",
   "execution_count": null,
   "metadata": {},
   "outputs": [],
   "source": [
    "from pathlib import Path\n",
    "\n",
    "from plismbench.utils.metrics import format_results, show_aggregate_results\n",
    "from plismbench.utils.viz import display_plism_metrics"
   ]
  },
  {
   "cell_type": "markdown",
   "metadata": {},
   "source": [
    "`metrics_root_dir` should have this architecture (as produced by `plismbench evaluate`).\n",
    "By default, metrics are only computed for 8139 tiles. As as example, you might have different folders corresponding to different extractors (here `h0_mini` and `conch`).\n",
    "\n",
    "```bash\n",
    ".\n",
    "├── 2713_tiles\n",
    "│   ├── conch\n",
    "│   │   ├── metrics.csv\n",
    "│   │   ├── pickles\n",
    "│   │   └── results.csv\n",
    "│   ├── h0_mini\n",
    "│   │   ├── metrics.csv\n",
    "│   │   ├── pickles\n",
    "│   │   └── results.csv\n",
    "...\n",
    "├── 5426_tiles\n",
    "│   ├── conch\n",
    "│   │   ├── metrics.csv\n",
    "│   │   ├── pickles\n",
    "│   │   └── results.csv\n",
    "│   ├── h0_mini\n",
    "│   │   ├── metrics.csv\n",
    "│   │   ├── pickles\n",
    "│   │   └── results.csv\n",
    "...\n",
    "└── 8139_tiles\n",
    "    ├── conch\n",
    "    │   ├── metrics.csv\n",
    "    │   ├── pickles\n",
    "    │   └── results.csv\n",
    "    ├── h0_mini\n",
    "    │   ├── metrics.csv\n",
    "    │   ├── pickles\n",
    "    └── └── results.csv\n",
    "```"
   ]
  },
  {
   "cell_type": "code",
   "execution_count": null,
   "metadata": {},
   "outputs": [],
   "source": [
    "# Set metrics root directory\n",
    "metrics_root_dir = Path(\"/home/owkin/project/plism_metrics/\")\n",
    "\n",
    "# Retrieve a more detailed version of the results\n",
    "raw_results = format_results(\n",
    "    metrics_root_dir,\n",
    "    agg_type=\"median\",  # choose between \"median\" or \"mean\"\n",
    "    n_tiles=8139,  # default number of tiles\n",
    ")\n",
    "\n",
    "raw_results.head(8)"
   ]
  },
  {
   "cell_type": "code",
   "execution_count": null,
   "metadata": {},
   "outputs": [],
   "source": [
    "# Aggregate and rank results for a specific metric, aggregation over pairs and robustness type\n",
    "results = show_aggregate_results(\n",
    "    metrics_root_dir,\n",
    "    metric_name=\"cosine_similarity\",  # choose between \"cosine_similarity\", \"top_1_accuracy\", \"top_3_accuracy\", \"top_5_accuracy\", \"top_10_accuracy\"\n",
    "    agg_type=\"median\",  # choose between \"median\" or \"mean\"\n",
    "    robustness_type=\"all\",  # choose between \"all\", \"inter-scanner\", \"inter-staining\", \"inter-scanner, inter-staining\"\n",
    "    n_tiles=8139,  # default number of tiles\n",
    ")\n",
    "\n",
    "results.head(15)"
   ]
  },
  {
   "cell_type": "code",
   "execution_count": null,
   "metadata": {},
   "outputs": [],
   "source": [
    "# Visualize the results\n",
    "display_plism_metrics(\n",
    "    raw_results,\n",
    "    xlim=(-0.005, 0.25),\n",
    "    ylim=(0.4, 0.9),\n",
    "    metric_x=\"top_10_accuracy_median\",  # should be in ``raw_results``\n",
    "    metric_y=\"cosine_similarity_median\",  # should be in ``raw_results``\n",
    "    robustness_x=\"all\",  # should be in ``raw_results``\n",
    "    robustness_y=\"all\",  # should be in ``raw_results``\n",
    "    label_x=\"Top-10 accuracy (all pairs)\",\n",
    "    label_y=\"Cosine similarity (all pairs)\",\n",
    "    fig_save_path=\"/home/owkin/fig_top10_cosine_all_pairs.svg\",  # can be a str or Path\n",
    ")"
   ]
  },
  {
   "cell_type": "code",
   "execution_count": null,
   "metadata": {},
   "outputs": [],
   "source": []
  }
 ],
 "metadata": {
  "kernelspec": {
   "display_name": "Python (vesibench)",
   "language": "python",
   "name": "python3"
  },
  "language_info": {
   "codemirror_mode": {
    "name": "ipython",
    "version": 3
   },
   "file_extension": ".py",
   "mimetype": "text/x-python",
   "name": "python",
   "nbconvert_exporter": "python",
   "pygments_lexer": "ipython3",
   "version": "3.10.15"
  },
  "vscode": {
   "interpreter": {
    "hash": "bdedc4665527ff43f21f83597a20c9857360c358c9dc57bfea9e7d2a253a1bcc"
   }
  }
 },
 "nbformat": 4,
 "nbformat_minor": 4
}
